{
 "cells": [
  {
   "cell_type": "code",
   "execution_count": 1,
   "metadata": {
    "collapsed": false
   },
   "outputs": [
    {
     "name": "stdout",
     "output_type": "stream",
     "text": [
      "volume_path ../data data2\n",
      "FOUND 100 matching images and depths\n",
      "loading 5 images and depthmaps\n"
     ]
    }
   ],
   "source": [
    "import numpy as np\n",
    "from scipy.misc import imread, imresize\n",
    "from scipy.io import loadmat\n",
    "import pickle\n",
    "from lasagne.objectives import squared_error\n",
    "from utils import collect_data, load_data, plot_img_dep, rmse, norm\n",
    "import matplotlib.pyplot as plt\n",
    "#volume_path = '/Volumes/johannah_external/mono_depth/cornell_dataset/\n",
    "volume_path = '../data'\n",
    "%matplotlib inline\n",
    "%load_ext autoreload\n",
    "\n",
    "%autoreload 2\n",
    "images, dmaps = collect_data(volume_path, 'data2')\n",
    "num_images = 5\n",
    "X_train, y_train = load_data(images[:5], dmaps[:5])"
   ]
  },
  {
   "cell_type": "code",
   "execution_count": 2,
   "metadata": {
    "collapsed": false
   },
   "outputs": [
    {
     "ename": "FileNotFoundError",
     "evalue": "[Errno 2] No such file or directory: 'trained/pda_e020.pkl'",
     "output_type": "error",
     "traceback": [
      "\u001b[1;31m---------------------------------------------------------------------------\u001b[0m",
      "\u001b[1;31mFileNotFoundError\u001b[0m                         Traceback (most recent call last)",
      "\u001b[1;32m<ipython-input-2-786eb02eb355>\u001b[0m in \u001b[0;36m<module>\u001b[1;34m()\u001b[0m\n\u001b[1;32m----> 1\u001b[1;33m \u001b[0mlp\u001b[0m \u001b[1;33m=\u001b[0m \u001b[0mpickle\u001b[0m\u001b[1;33m.\u001b[0m\u001b[0mload\u001b[0m\u001b[1;33m(\u001b[0m\u001b[0mopen\u001b[0m\u001b[1;33m(\u001b[0m\u001b[1;34m'trained/pda_e020.pkl'\u001b[0m\u001b[1;33m,\u001b[0m \u001b[0mmode\u001b[0m\u001b[1;33m=\u001b[0m\u001b[1;34m'rb'\u001b[0m\u001b[1;33m)\u001b[0m\u001b[1;33m)\u001b[0m\u001b[1;33m\u001b[0m\u001b[0m\n\u001b[0m\u001b[0;32m      2\u001b[0m \u001b[0mtrain_function\u001b[0m \u001b[1;33m=\u001b[0m \u001b[0mlp\u001b[0m\u001b[1;33m[\u001b[0m\u001b[1;34m'train_function'\u001b[0m\u001b[1;33m]\u001b[0m\u001b[1;33m\u001b[0m\u001b[0m\n\u001b[0;32m      3\u001b[0m \u001b[0mpredict_function\u001b[0m \u001b[1;33m=\u001b[0m \u001b[0mlp\u001b[0m\u001b[1;33m[\u001b[0m\u001b[1;34m'predict_function'\u001b[0m\u001b[1;33m]\u001b[0m\u001b[1;33m\u001b[0m\u001b[0m\n\u001b[0;32m      4\u001b[0m \u001b[0mvalid_function\u001b[0m \u001b[1;33m=\u001b[0m \u001b[0mlp\u001b[0m\u001b[1;33m[\u001b[0m\u001b[1;34m'valid_function'\u001b[0m\u001b[1;33m]\u001b[0m\u001b[1;33m\u001b[0m\u001b[0m\n\u001b[0;32m      5\u001b[0m \u001b[0mvl\u001b[0m \u001b[1;33m=\u001b[0m \u001b[0mlp\u001b[0m\u001b[1;33m[\u001b[0m\u001b[1;34m'valid_losses'\u001b[0m\u001b[1;33m]\u001b[0m\u001b[1;33m\u001b[0m\u001b[0m\n",
      "\u001b[1;31mFileNotFoundError\u001b[0m: [Errno 2] No such file or directory: 'trained/pda_e020.pkl'"
     ]
    }
   ],
   "source": [
    "lp = pickle.load(open('trained/pda_e020.pkl', mode='rb'))\n",
    "train_function = lp['train_function']\n",
    "predict_function = lp['predict_function']\n",
    "valid_function = lp['valid_function']\n",
    "vl = lp['valid_losses']\n",
    "tl = lp['train_losses']\n",
    "plt.figure()\n",
    "plt.plot(vl)\n",
    "plt.plot(tl)"
   ]
  },
  {
   "cell_type": "code",
   "execution_count": null,
   "metadata": {
    "collapsed": false,
    "scrolled": true
   },
   "outputs": [],
   "source": [
    "\n",
    "\n",
    "inum = 0\n",
    "print(images[1])\n",
    "print(dmaps[1])\n",
    "test_img = X_train[inum,:,:,:][None,:,:,:]\n",
    "dpredict = predict_function(test_img)   \n",
    "igt = X_train[inum,:,:,:].transpose(1,2,0)\n",
    "dgt = y_train[inum,0,:,:]\n",
    "dgt1 = norm(dgt)\n",
    "dout = dpredict[inum,0,:,:]\n",
    "dout1 = norm(dout)\n",
    "print('rmse', rmse(dgt,dout), dgt.min(), dout.min(), dgt.max(), dout.max())\n",
    "#Plot\n",
    "iimg = imread(images[inum])\n",
    "odep = loadmat(dmaps[inum])['depthMap']\n",
    "rodep = imresize(odep, iimg.shape[:2])\n",
    "plot_img_dep(igt, dgt1, dout1)\n",
    "dgt\n"
   ]
  },
  {
   "cell_type": "code",
   "execution_count": null,
   "metadata": {
    "collapsed": false
   },
   "outputs": [],
   "source": [
    "print(y_train.shape)\n",
    "print(X_train.shape)"
   ]
  },
  {
   "cell_type": "code",
   "execution_count": null,
   "metadata": {
    "collapsed": false
   },
   "outputs": [],
   "source": [
    "21*15"
   ]
  },
  {
   "cell_type": "code",
   "execution_count": null,
   "metadata": {
    "collapsed": false,
    "scrolled": true
   },
   "outputs": [],
   "source": [
    "189*3"
   ]
  },
  {
   "cell_type": "code",
   "execution_count": null,
   "metadata": {
    "collapsed": true
   },
   "outputs": [],
   "source": []
  }
 ],
 "metadata": {
  "kernelspec": {
   "display_name": "Python 3",
   "language": "python",
   "name": "python3"
  },
  "language_info": {
   "codemirror_mode": {
    "name": "ipython",
    "version": 3
   },
   "file_extension": ".py",
   "mimetype": "text/x-python",
   "name": "python",
   "nbconvert_exporter": "python",
   "pygments_lexer": "ipython3",
   "version": "3.5.1"
  }
 },
 "nbformat": 4,
 "nbformat_minor": 0
}
